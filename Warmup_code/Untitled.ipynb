{
 "cells": [
  {
   "cell_type": "code",
   "execution_count": 1,
   "metadata": {},
   "outputs": [],
   "source": [
    "name_dict={\"Charles\": [23.4, \"Darwin\"], \"Alan\": [42.5, \"Turing\"],\\\n",
    "          \"Richard\":[71.2, \"Nixon\"],\"Alexander\":[58,\"Grossman\"],\\\n",
    "           \"Lars\":[77,\"Peterson\"]}"
   ]
  },
  {
   "cell_type": "code",
   "execution_count": 2,
   "metadata": {},
   "outputs": [
    {
     "data": {
      "text/plain": [
       "[23.4, 'Darwin']"
      ]
     },
     "execution_count": 2,
     "metadata": {},
     "output_type": "execute_result"
    }
   ],
   "source": [
    "name_dict.pop(\"Charles\")"
   ]
  },
  {
   "cell_type": "code",
   "execution_count": 3,
   "metadata": {},
   "outputs": [
    {
     "data": {
      "text/plain": [
       "{'Alan': [42.5, 'Turing'],\n",
       " 'Richard': [71.2, 'Nixon'],\n",
       " 'Alexander': [58, 'Grossman'],\n",
       " 'Lars': [77, 'Peterson']}"
      ]
     },
     "execution_count": 3,
     "metadata": {},
     "output_type": "execute_result"
    }
   ],
   "source": [
    "name_dict"
   ]
  },
  {
   "cell_type": "code",
   "execution_count": 6,
   "metadata": {},
   "outputs": [
    {
     "name": "stdout",
     "output_type": "stream",
     "text": [
      "{'Alan': [99.3, 'Turing'], 'Richard': [71.2, 'Nixon'], 'Alexander': [58, 'Grossman'], 'Lars': [77, 'Peterson']}\n"
     ]
    }
   ],
   "source": [
    "name_dict['Alan'][0]=99.3\n",
    "print(name_dict)"
   ]
  },
  {
   "cell_type": "code",
   "execution_count": 7,
   "metadata": {},
   "outputs": [],
   "source": [
    "ages=[name[0] for name in name_dict.values()]"
   ]
  },
  {
   "cell_type": "code",
   "execution_count": 8,
   "metadata": {},
   "outputs": [
    {
     "data": {
      "text/plain": [
       "[99.3, 71.2, 58, 77]"
      ]
     },
     "execution_count": 8,
     "metadata": {},
     "output_type": "execute_result"
    }
   ],
   "source": [
    "ages"
   ]
  },
  {
   "cell_type": "code",
   "execution_count": 9,
   "metadata": {},
   "outputs": [],
   "source": [
    "import numpy as np"
   ]
  },
  {
   "cell_type": "code",
   "execution_count": 10,
   "metadata": {
    "scrolled": true
   },
   "outputs": [
    {
     "name": "stdout",
     "output_type": "stream",
     "text": [
      "74.1\n"
     ]
    }
   ],
   "source": [
    "print(np.median(ages))"
   ]
  },
  {
   "cell_type": "code",
   "execution_count": 17,
   "metadata": {},
   "outputs": [
    {
     "name": "stdout",
     "output_type": "stream",
     "text": [
      "[58, 71.2, 77, 99.3]\n",
      "74.1\n"
     ]
    }
   ],
   "source": [
    "ages.sort()\n",
    "print(ages)\n",
    "#if the length is an odd number pick the middle guy\n",
    "#else is the mean of the middle two numbers\n",
    "if len(ages)%2==0:\n",
    "    print((ages[int(len(ages)/2)]+ages[int(len(ages)/2-1)])/2)\n",
    "else:\n",
    "    print(ages[int((len(ages)-1)/2)])"
   ]
  },
  {
   "cell_type": "code",
   "execution_count": 11,
   "metadata": {},
   "outputs": [
    {
     "name": "stdout",
     "output_type": "stream",
     "text": [
      "76.375\n"
     ]
    }
   ],
   "source": [
    "print(np.mean(ages))"
   ]
  },
  {
   "cell_type": "code",
   "execution_count": 19,
   "metadata": {},
   "outputs": [
    {
     "name": "stdout",
     "output_type": "stream",
     "text": [
      "76.375\n"
     ]
    }
   ],
   "source": [
    "print(sum(ages)/len(ages))"
   ]
  },
  {
   "cell_type": "code",
   "execution_count": null,
   "metadata": {},
   "outputs": [],
   "source": []
  }
 ],
 "metadata": {
  "kernelspec": {
   "display_name": "learn-env",
   "language": "python",
   "name": "learn-env"
  },
  "language_info": {
   "codemirror_mode": {
    "name": "ipython",
    "version": 3
   },
   "file_extension": ".py",
   "mimetype": "text/x-python",
   "name": "python",
   "nbconvert_exporter": "python",
   "pygments_lexer": "ipython3",
   "version": "3.6.6"
  }
 },
 "nbformat": 4,
 "nbformat_minor": 2
}
